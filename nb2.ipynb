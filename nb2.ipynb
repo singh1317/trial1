import pandas as pd
import numpy as np
import matplotlib.pyplot as plt

# Load a sample dataset
df = pd.read_csv('https://raw.githubusercontent.com/mwaskom/seaborn-data/master/iris.csv')

# Perform some data analysis
print(df.head())

# Plot the data
plt.figure(figsize=(8, 6))
plt.scatter(df['sepal_length'], df['sepal_width'], c=df['species'].astype('category').cat.codes)
plt.xlabel('Sepal Length')
plt.ylabel('Sepal Width')
plt.title('Iris Dataset - Sepal Length vs Sepal Width')
plt.show()

